{
 "cells": [
  {
   "cell_type": "code",
   "execution_count": 1,
   "metadata": {
    "collapsed": true
   },
   "outputs": [],
   "source": [
    "#imports\n",
    "import json"
   ]
  },
  {
   "cell_type": "code",
   "execution_count": 2,
   "metadata": {
    "collapsed": true
   },
   "outputs": [],
   "source": [
    "#initializing empty dictionaries to hold the respected values\n",
    "rules = {}\n",
    "first = {}\n",
    "follow = {}"
   ]
  },
  {
   "cell_type": "code",
   "execution_count": 3,
   "metadata": {
    "collapsed": true
   },
   "outputs": [],
   "source": [
    "#method to separate the rules into dictionary {rules}\n",
    "def get_rules_line(operator, line):\n",
    "\tif '|' in line:\n",
    "\t\tfor part in line.split('|'):\n",
    "\t\t\tget_rules_line(operator, part)\n",
    "\telse:\n",
    "\t\trules[operator].append(line)"
   ]
  },
  {
   "cell_type": "code",
   "execution_count": 4,
   "metadata": {
    "collapsed": true
   },
   "outputs": [],
   "source": [
    "#loading the rules from file\n",
    "# reading the rules from file\n",
    "number_of_rules = 0\n",
    "with open('input_rules.txt', \"r\") as f:\n",
    "\tfor line in f:\n",
    "\t\trules[line[0]] = []\n",
    "\t\tfirst[line[0]] = []\n",
    "\t\tfollow[line[0]] = []\n",
    "\t\tif number_of_rules == 0:\n",
    "\t\t\tfollow[line[0]].append('$')\n",
    "\t\tnumber_of_rules += 1\n",
    "\t\tget_rules_line(line[0], line[3:].replace(\"\\n\", \"\"))"
   ]
  },
  {
   "cell_type": "code",
   "execution_count": 5,
   "metadata": {
    "collapsed": true
   },
   "outputs": [],
   "source": [
    "#utility function to make a list unique \n",
    "def make_unique_list(list_val):\n",
    "\treturn list(set(list_val))"
   ]
  },
  {
   "cell_type": "code",
   "execution_count": 6,
   "metadata": {},
   "outputs": [
    {
     "name": "stdout",
     "output_type": "stream",
     "text": [
      "\n",
      "Rules.\n",
      "----------------------------------------------\n",
      "S: ['ADBCd']\n",
      "A: ['0', 'a']\n",
      "B: ['A', 'b', '0']\n",
      "C: ['Ba', 'c', '0']\n",
      "D: ['d', '0']\n"
     ]
    }
   ],
   "source": [
    "#view the rules\n",
    "print()\n",
    "print(\"Rules.\")\n",
    "print(\"----------------------------------------------\")\n",
    "\n",
    "for left in rules.keys():\n",
    "\tprint(left + \": \" + str(make_unique_list(rules[left])))"
   ]
  },
  {
   "cell_type": "code",
   "execution_count": 7,
   "metadata": {
    "collapsed": true
   },
   "outputs": [],
   "source": [
    "#get the first result\n",
    "def get_first(operator, rule):\n",
    "\tif rule[0].islower() or rule[0] == '0':\n",
    "\t\tfirst[operator].append(rule[0])\n",
    "\telse:\n",
    "\t\tif len(first[str(rule[0])]) == 0:\n",
    "\t\t\tinit_first(rule[0])\n",
    "\t\t\tinit_first(operator)\n",
    "\t\telse:\n",
    "\t\t\tfor first_term in first[rule[0]]:\n",
    "\t\t\t\tif first_term == '0':\n",
    "\t\t\t\t\tif len(rule[1:]) >= 1:\n",
    "\t\t\t\t\t\tget_first(operator, rule[1:])\n",
    "\t\t\t\t\telse:\n",
    "\t\t\t\t\t\tfirst[operator].append('0')\n",
    "\t\t\t\telse:\n",
    "\t\t\t\t\tfirst[operator].append(first_term)\n",
    "\n",
    "#function to make recurssion easier\n",
    "def init_first(char):\n",
    "\tfor rule in rules[char]:\n",
    "\t\tget_first(char, rule)\n"
   ]
  },
  {
   "cell_type": "code",
   "execution_count": 9,
   "metadata": {
    "collapsed": true
   },
   "outputs": [],
   "source": [
    "#function to get follow result\n",
    "def get_follow(operator):\n",
    "\tfor key in rules.keys():\n",
    "\t\tfor rule in rules[key]:\n",
    "\t\t\tif operator in rule:\n",
    "\t\t\t\t#if the searching operator is the last index or the next character is empty string and last index\n",
    "\t\t\t\t#i.e S->ABC0 if searching for C considering 0 as the empty string it is the last index.\n",
    "\t\t\t\tif rule.find(operator) == len(rule)-1 or (rule[rule.find(operator)+1] == '0' and rule.find(operator)+1 == len(rule)-1):\n",
    "\t\t\t\t\tif len(follow[key]) == 0:\n",
    "\t\t\t\t\t\tget_follow(key)\n",
    "\t\t\t\t\telse:\n",
    "\t\t\t\t\t\tfollow[operator].extend(follow[key])\n",
    "\t\t\t\telse:\n",
    "\t\t\t\t\tindex = rule.find(operator) + 1\n",
    "\t\t\t\t\trun = True\n",
    "\t\t\t\t\twhile index < len(rule) and run:\n",
    "\t\t\t\t\t\trun = False\n",
    "\t\t\t\t\t\ttemp = rule[index]\n",
    "\t\t\t\t\t\tif temp.islower():\n",
    "\t\t\t\t\t\t\tfollow[operator].append(temp)\n",
    "\t\t\t\t\t\t\tbreak\n",
    "\t\t\t\t\t\telse:\n",
    "\t\t\t\t\t\t\tfor fll in first[temp]:\n",
    "\t\t\t\t\t\t\t\tif fll == '0':\n",
    "\t\t\t\t\t\t\t\t\trun = True\n",
    "\t\t\t\t\t\t\t\telse:\n",
    "\t\t\t\t\t\t\t\t\tfollow[operator].append(fll)\n",
    "\t\t\t\t\t\tindex += 1"
   ]
  },
  {
   "cell_type": "code",
   "execution_count": 10,
   "metadata": {
    "collapsed": true
   },
   "outputs": [],
   "source": [
    "#calling init_first() to start generating first for the given key\n",
    "for left in rules.keys():\n",
    "\tinit_first(left)\n",
    "\n",
    "#calling _get_follow() to get follow of the given key\n",
    "for left in rules.keys():\n",
    "\tget_follow(left)"
   ]
  },
  {
   "cell_type": "code",
   "execution_count": 11,
   "metadata": {},
   "outputs": [
    {
     "name": "stdout",
     "output_type": "stream",
     "text": [
      "\n",
      "First.\n",
      "----------------------------------------------\n",
      "S: ['d', 'b', 'c', 'a']\n",
      "A: ['0', 'a']\n",
      "B: ['b', '0', 'a']\n",
      "C: ['b', 'c', '0', 'a']\n",
      "D: ['d', '0']\n"
     ]
    }
   ],
   "source": [
    "#first result\n",
    "print()\n",
    "print(\"First.\")\n",
    "print(\"----------------------------------------------\")\n",
    "\n",
    "for left in first.keys():\n",
    "\tprint(left + \": \" + str(make_unique_list(first[left])))"
   ]
  },
  {
   "cell_type": "code",
   "execution_count": 12,
   "metadata": {},
   "outputs": [
    {
     "name": "stdout",
     "output_type": "stream",
     "text": [
      "\n",
      "Follow.\n",
      "----------------------------------------------\n",
      "S: ['$']\n",
      "A: ['d', 'b', 'c', 'a']\n",
      "B: ['d', 'b', 'c', 'a']\n",
      "C: ['d']\n",
      "D: ['d', 'b', 'c', 'a']\n"
     ]
    }
   ],
   "source": [
    "#follow result\n",
    "print()\n",
    "print(\"Follow.\")\n",
    "print(\"----------------------------------------------\")\n",
    "\n",
    "for left in follow.keys():\n",
    "\tprint(left + \": \" + str(make_unique_list(follow[left])))"
   ]
  }
 ],
 "metadata": {
  "kernelspec": {
   "display_name": "Python 3",
   "language": "python",
   "name": "python3"
  },
  "language_info": {
   "codemirror_mode": {
    "name": "ipython",
    "version": 3
   },
   "file_extension": ".py",
   "mimetype": "text/x-python",
   "name": "python",
   "nbconvert_exporter": "python",
   "pygments_lexer": "ipython3",
   "version": "3.6.2"
  }
 },
 "nbformat": 4,
 "nbformat_minor": 2
}
